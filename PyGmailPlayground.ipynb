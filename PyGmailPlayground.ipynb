{
 "cells": [
  {
   "cell_type": "code",
   "execution_count": 326,
   "metadata": {
    "collapsed": true
   },
   "outputs": [],
   "source": [
    "import gmail \n",
    "import datetime"
   ]
  },
  {
   "cell_type": "code",
   "execution_count": 351,
   "metadata": {
    "collapsed": false
   },
   "outputs": [
    {
     "name": "stdout",
     "output_type": "stream",
     "text": [
      "Signed In\n"
     ]
    }
   ],
   "source": [
    "def Account(username,password):\n",
    "    try:\n",
    "        g = gmail.login(username, password)\n",
    "        if g.logged_in:\n",
    "            print \"Signed In\"\n",
    "            return g\n",
    "        else:\n",
    "            print \"Authentication Failed. Please try again!\"\n",
    "            return -1\n",
    "    except Exception as e:\n",
    "        print \"Authentication Failed. Please try again!\"\n",
    "    \n",
    "g = Account('gd4alexa@gmail.com', 'alexa1234')"
   ]
  },
  {
   "cell_type": "code",
   "execution_count": 352,
   "metadata": {
    "collapsed": false
   },
   "outputs": [],
   "source": [
    "# g.inbox().mail()\n",
    "#Parameter Examples:\n",
    "    # on=datetime.date(2009, 1, 1)\n",
    "    # sender/fr=\"myfriend@gmail.com\"\n",
    "    # to=\"directlytome@gmail.com\"\n",
    "    # after=datetime.date(2017, 1, 18)\n",
    "    # before=datetime.date(2017, 5, 23)"
   ]
  },
  {
   "cell_type": "code",
   "execution_count": 355,
   "metadata": {
    "collapsed": false
   },
   "outputs": [
    {
     "name": "stdout",
     "output_type": "stream",
     "text": [
      "21\n",
      "\n",
      "\n",
      "=================== AMAZON.COM/FASHION =================== . . Levi's Men's 502 Regular Taper Jean  Levi's Men's 541 Athletic Fit Jean  Levi's Women's 711 Skinny Ankle Jean  Levi's Men's Big & Tall 541 Athletic Fit Jean   Levi's for kids  . . . . We hope you found this message to be useful. However, if you'd rather not receive future e-mails of this sort from Amazon.com, please opt-out here:  Please note that product prices and availability are subject to change. Prices and availability were accurate at the time this newsletter was sent; however, they may differ from those you see when you visit Amazon.com.  2017 Amazon.com, Inc. or its affiliates. All rights reserved. Amazon, Amazon.com, the Amazon.com logo and 1-Click are registered trademarks of Amazon.com, Inc. or its affiliates. Amazon.com, 410 Terry Avenue N., Seattle, WA 98109-5210. Reference: 232840220 Please note that this message was sent to the following e-mail address: gd4alexa@gmail.com \n",
      "\n",
      "\n",
      "CONTACT US    |   SUPPORT Turn Players into Fans: Build Your Fan Base and Increase User Engagement Join Peter Heinrich, Amazon Developer Evangelist, on Friday, April 21st Trends for driving game adoption always change. Soon, top games will need a passionate fan base to drive user acquisition, engagement, and alternate streams of revenue. In our April webinar, Amazon Developer Evangelist Peter Heinrich will show you how top games are already driving more engagement and revenue with their fan bases, and show you how to do it with your own app. Join Peter on April 21st to learn how to turn your players into fans. By the end of this webinar you will know how to do the following: - Build a fan base by tapping into early adopters enthusiasm and increasing retention. - Turn your VIP players into key product advocates. - Sell physical goods to lower user acquisition costs and increase revenue with alternative streams, like Merch by Amazon. Were offering two sessions of this webinar on Friday, April 21, 2017. You can choose between the session 7:00 AM PST or the session at 1:00 PM PST. Sign up today to reserve your spot.      2017 Amazon.com or its affiliates. All rights reserved. Amazon and Amazon.com are trademarks of Amazon.com , Inc. or its affiliates. 410 Terry Avenue North, Seattle, WA 98109. This email was sent to gd4alexa@gmail.com. If you no longer wish to receive these emails you may unsubscribe here:  \n",
      "\n",
      "\n",
      "Improve Your Security Posture & Operational Efficiency with Backup & Recovery Solutions The AWS Cloud provides organizations with the scalable and durable storage needed to implement an effective backup & recovery solution. AWS and APN partners provide a multitude of storage services for data archiving and long-term backup for small to large amounts of data, at a significantly lower cost than on-premises storage solutions. Learn More  IBM Join the IBM and AWS webinar to learn how IBM Spectrum Protect can help you stay on top of backup and recovery with less complexity and cost, by scaling with the data it protects. Register for Webinar  Commvault Register for the upcoming webinar to learn how to leverage Commvault on AWS to simplify your on-premises and cloud orchestration with innovative cloud integration. Register for Webinar  CloudBerry Join the upcoming webinar to learn how CloudBerry Backups central management portal integrates with Amazon S3 and Amazon Glacier to simplify the automation of scheduling backups. Register for Webinar  AWS on Twitter AWS on Facebook AWS on Google+ AWS on Twitch AWS Blog AWS Podcast We hope you enjoyed this email. If you'd rather not receive future emails from Amazon Web Services, unsubscribe here . Amazon Web Services, Inc. is a subsidiary of Amazon.com, Inc. Amazon.com is a registered trademark of Amazon.com. This message was produced and distributed by Amazon Web Services, Inc., 410 Terry Ave. North, Seattle, WA 98109.  2017, Amazon Web Services, Inc. or its affiliates. All rights reserved. Read our Privacy Policy . -------------------------------------------- \n",
      "\n",
      "\n",
      "========== AMAZON.COM ========== Based on your recent visit, we thought you might be interested in these items. Summer Infant Complete Nursery Care Kit, Teal/White by Summer Infant  Was $16.23 Price: $16.10 ... Mommy's Helper Nursery Essentials by Mommy's Helper  Was $13.00 Price: $11.99 You Save: $1.01 (8%) ... The First Years American Red Cross Baby Healthcare And Grooming Kit by The First Years  List Price: $19.99 Price: $19.98 ... Safety 1st Deluxe Healthcare and Grooming Kit, Arctic Seville by Safety 1st  List Price: $19.99 Price: $15.83 You Save: $4.16 (21%) ... Luvable Friends Flannel Receiving Blankets, Blue, 4 Count by Luvable Friends  List Price: $10.55 Price: $7.50 You Save: $3.05 (29%) ... The First Years Sure Comfort Deluxe Newborn To Toddler Tub, Blue by The First Years  List Price: $21.99 Price: $17.98 You Save: $4.01 (18%) ... Safety 1st Stock Up for Baby Kit, Full Circle by Safety 1st  List Price: $29.99 Price: $20.75 You Save: $9.24 (31%) ... Safety 1st Ready! Growing Baby Nursery Kit, Little Lagoon by Safety 1st  Price: $19.99 ... See even more similar items  ========== Amazon.com  Connect with Us On Facebook  On Twitter  On Pinterest  ========== We hope you found this message to be useful. However, if you'd rather not receive future e-mails of this sort from Amazon.com, please visit the opt-out link here:  Please note that product prices and availability are subject to change. Prices and availability were accurate at the time this newsletter was sent; however, they may differ from those you see when you visit Amazon.com.  2017 Amazon.com, Inc. or its affiliates. All rights reserved. Amazon, Amazon.com, the Amazon.com logo and 1-Click are registered trademarks of Amazon.com, Inc. or its affiliates. Amazon.com, 410 Terry Avenue N., Seattle, WA 98109-5210. Reference: 232343910 Please note that this message was sent to the following e-mail address: gd4alexa@gmail.com \n",
      "\n",
      "\n",
      "========== AMAZON.COM ========== Based on your recent visit, we thought you might be interested in these items. Boppy Newborn Lounger, Geo by Boppy  Price: $29.99 ... Boppy Luxe Newborn Lounger, Uptown Chevron Gray by Boppy  Price: $39.99 ... Boppy Newborn Lounger, Pink Hearts by Boppy  List Price: $29.99 Price: $29.84 ... Boppy Nursing Pillow and Positioner - Bare Naked by Boppy  Was $29.99 Price: See our site ... Just Born Wear-A-Blanket, Grey Elephants, Medium by Just Born  Price: $16.99 ... Summer Infant Contoured Changing Pad & Changing Pad Cover in White by Summer Infant  Price: $39.89 ... Leachco Podster Sling-Style Infant Seat Lounger, Sage Pin Dot by Leachco  Was $39.99 Price: $31.99 You Save: $8.00 (20%) ... My Brest Friend Original Nursing Pillow, Fireworks by My Brest Friend  List Price: $45.00 Price: $34.95 You Save: $10.05 (22%) ... See even more similar items  ========== Amazon.com  Connect with Us On Facebook  On Twitter  On Pinterest  ========== We hope you found this message to be useful. However, if you'd rather not receive future e-mails of this sort from Amazon.com, please visit the opt-out link here:  Please note that product prices and availability are subject to change. Prices and availability were accurate at the time this newsletter was sent; however, they may differ from those you see when you visit Amazon.com.  2017 Amazon.com, Inc. or its affiliates. All rights reserved. Amazon, Amazon.com, the Amazon.com logo and 1-Click are registered trademarks of Amazon.com, Inc. or its affiliates. Amazon.com, 410 Terry Avenue N., Seattle, WA 98109-5210. Reference: 232609530 Please note that this message was sent to the following e-mail address: gd4alexa@gmail.com \n",
      "\n",
      "\n",
      "========== AMAZON.COM ========== Based on your recent visit, we thought you might be interested in these items. Foxnovo Cute Caterpillar Style Baby Infant Newborn Handmade Crochet Beanie Hat Clothes Baby Photograph Props (Blue) by Foxnovo  List Price: $20.99 Price: $8.99 You Save: $12.00 (57%) ... Museya Cute Cartoon Dinosaur Style Baby Infant Newborn Handmade Crochet Beanie Hat Clothes Baby Photograph Props by Museya  Price: $7.99 ... JISEN Baby Newborn Photography Props Handmade Cute Fox Set Crochet Knitted Unisex Baby Cap Outfit Photo Props by JISEN  List Price: $18.99 Price: $12.99 You Save: $6.00 (32%) ... PIXNOR Baby Newborn Turtle Costume Photo Photography Prop 0-6 mon  by PIXNOR  Price: $8.99 ... Ufraky Baby Green Pea Style Sleeping Bag Hat Shorts Costume Photo Props Outfit Ufraky  Price: $15.69 ... JiaDuo Newborn Baby Handmade Crochet Animal Costume Set Photograph Props JiaDuo  Price: $14.99 ... Jastore Newborn Infant Baby Boy Photography Prop Costume Cute Cap Pants Jastore  Price: $11.99 - $12.99 ... Space PH Newborn Baby Girl Boy Crochet Knit Hat Costume Photography Prop Outfit Set by Space PH  Price: $11.99 ... See even more similar items  ========== Amazon.com  Connect with Us On Facebook  On Twitter  On Pinterest  ========== We hope you found this message to be useful. However, if you'd rather not receive future e-mails of this sort from Amazon.com, please visit the opt-out link here:  Please note that product prices and availability are subject to change. Prices and availability were accurate at the time this newsletter was sent; however, they may differ from those you see when you visit Amazon.com.  2017 Amazon.com, Inc. or its affiliates. All rights reserved. Amazon, Amazon.com, the Amazon.com logo and 1-Click are registered trademarks of Amazon.com, Inc. or its affiliates. Amazon.com, 410 Terry Avenue N., Seattle, WA 98109-5210. Reference: 232696290 Please note that this message was sent to the following e-mail address: gd4alexa@gmail.com \n",
      "\n",
      "\n"
     ]
    },
    {
     "ename": "KeyboardInterrupt",
     "evalue": "",
     "output_type": "error",
     "traceback": [
      "\u001b[0;31m-------------------------------------------------------------------------\u001b[0m",
      "\u001b[0;31mKeyboardInterrupt\u001b[0m                       Traceback (most recent call last)",
      "\u001b[0;32m<ipython-input-355-d61b4d8933d6>\u001b[0m in \u001b[0;36m<module>\u001b[0;34m()\u001b[0m\n\u001b[1;32m     16\u001b[0m             \u001b[0memail\u001b[0m\u001b[0;34m.\u001b[0m\u001b[0mread\u001b[0m\u001b[0;34m(\u001b[0m\u001b[0;34m)\u001b[0m\u001b[0;34m\u001b[0m\u001b[0m\n\u001b[1;32m     17\u001b[0m \u001b[0;34m\u001b[0m\u001b[0m\n\u001b[0;32m---> 18\u001b[0;31m \u001b[0mreadEmail\u001b[0m\u001b[0;34m(\u001b[0m\u001b[0mg\u001b[0m\u001b[0;34m.\u001b[0m\u001b[0minbox\u001b[0m\u001b[0;34m(\u001b[0m\u001b[0;34m)\u001b[0m\u001b[0;34m.\u001b[0m\u001b[0mmail\u001b[0m\u001b[0;34m(\u001b[0m\u001b[0munread\u001b[0m\u001b[0;34m=\u001b[0m\u001b[0mTrue\u001b[0m\u001b[0;34m)\u001b[0m\u001b[0;34m)\u001b[0m\u001b[0;34m\u001b[0m\u001b[0m\n\u001b[0m",
      "\u001b[0;32m<ipython-input-355-d61b4d8933d6>\u001b[0m in \u001b[0;36mreadEmail\u001b[0;34m(emails)\u001b[0m\n\u001b[1;32m      7\u001b[0m             \u001b[0;32mprint\u001b[0m \u001b[0;34m\"\\n\"\u001b[0m\u001b[0;34m\u001b[0m\u001b[0m\n\u001b[1;32m      8\u001b[0m             \u001b[0memail\u001b[0m\u001b[0;34m.\u001b[0m\u001b[0mfetch\u001b[0m\u001b[0;34m(\u001b[0m\u001b[0;34m)\u001b[0m \u001b[0;31m# can also unread(), delete(), spam(), or star()\u001b[0m\u001b[0;34m\u001b[0m\u001b[0m\n\u001b[0;32m----> 9\u001b[0;31m             \u001b[0memail\u001b[0m\u001b[0;34m.\u001b[0m\u001b[0marchive\u001b[0m\u001b[0;34m(\u001b[0m\u001b[0;34m)\u001b[0m\u001b[0;34m\u001b[0m\u001b[0m\n\u001b[0m\u001b[1;32m     10\u001b[0m             \u001b[0munclean\u001b[0m \u001b[0;34m=\u001b[0m \u001b[0memail\u001b[0m\u001b[0;34m.\u001b[0m\u001b[0mbody\u001b[0m\u001b[0;34m\u001b[0m\u001b[0m\n\u001b[1;32m     11\u001b[0m             \u001b[0msoup\u001b[0m \u001b[0;34m=\u001b[0m \u001b[0mBeautifulSoup\u001b[0m\u001b[0;34m(\u001b[0m\u001b[0munclean\u001b[0m\u001b[0;34m)\u001b[0m\u001b[0;34m\u001b[0m\u001b[0m\n",
      "\u001b[0;32m/Library/Frameworks/Python.framework/Versions/2.7/lib/python2.7/site-packages/gmail/message.pyc\u001b[0m in \u001b[0;36marchive\u001b[0;34m(self)\u001b[0m\n\u001b[1;32m    104\u001b[0m \u001b[0;34m\u001b[0m\u001b[0m\n\u001b[1;32m    105\u001b[0m     \u001b[0;32mdef\u001b[0m \u001b[0marchive\u001b[0m\u001b[0;34m(\u001b[0m\u001b[0mself\u001b[0m\u001b[0;34m)\u001b[0m\u001b[0;34m:\u001b[0m\u001b[0;34m\u001b[0m\u001b[0m\n\u001b[0;32m--> 106\u001b[0;31m         \u001b[0mself\u001b[0m\u001b[0;34m.\u001b[0m\u001b[0mmove_to\u001b[0m\u001b[0;34m(\u001b[0m\u001b[0;34m'[Gmail]/All Mail'\u001b[0m\u001b[0;34m)\u001b[0m\u001b[0;34m\u001b[0m\u001b[0m\n\u001b[0m\u001b[1;32m    107\u001b[0m \u001b[0;34m\u001b[0m\u001b[0m\n\u001b[1;32m    108\u001b[0m     \u001b[0;32mdef\u001b[0m \u001b[0mparse_headers\u001b[0m\u001b[0;34m(\u001b[0m\u001b[0mself\u001b[0m\u001b[0;34m,\u001b[0m \u001b[0mmessage\u001b[0m\u001b[0;34m)\u001b[0m\u001b[0;34m:\u001b[0m\u001b[0;34m\u001b[0m\u001b[0m\n",
      "\u001b[0;32m/Library/Frameworks/Python.framework/Versions/2.7/lib/python2.7/site-packages/gmail/message.pyc\u001b[0m in \u001b[0;36mmove_to\u001b[0;34m(self, name)\u001b[0m\n\u001b[1;32m     97\u001b[0m \u001b[0;34m\u001b[0m\u001b[0m\n\u001b[1;32m     98\u001b[0m     \u001b[0;32mdef\u001b[0m \u001b[0mmove_to\u001b[0m\u001b[0;34m(\u001b[0m\u001b[0mself\u001b[0m\u001b[0;34m,\u001b[0m \u001b[0mname\u001b[0m\u001b[0;34m)\u001b[0m\u001b[0;34m:\u001b[0m\u001b[0;34m\u001b[0m\u001b[0m\n\u001b[0;32m---> 99\u001b[0;31m         \u001b[0mself\u001b[0m\u001b[0;34m.\u001b[0m\u001b[0mgmail\u001b[0m\u001b[0;34m.\u001b[0m\u001b[0mcopy\u001b[0m\u001b[0;34m(\u001b[0m\u001b[0mself\u001b[0m\u001b[0;34m.\u001b[0m\u001b[0muid\u001b[0m\u001b[0;34m,\u001b[0m \u001b[0mname\u001b[0m\u001b[0;34m,\u001b[0m \u001b[0mself\u001b[0m\u001b[0;34m.\u001b[0m\u001b[0mmailbox\u001b[0m\u001b[0;34m.\u001b[0m\u001b[0mname\u001b[0m\u001b[0;34m)\u001b[0m\u001b[0;34m\u001b[0m\u001b[0m\n\u001b[0m\u001b[1;32m    100\u001b[0m         \u001b[0;32mif\u001b[0m \u001b[0mname\u001b[0m \u001b[0;32mnot\u001b[0m \u001b[0;32min\u001b[0m \u001b[0;34m[\u001b[0m\u001b[0;34m'[Gmail]/Bin'\u001b[0m\u001b[0;34m,\u001b[0m \u001b[0;34m'[Gmail]/Trash'\u001b[0m\u001b[0;34m]\u001b[0m\u001b[0;34m:\u001b[0m\u001b[0;34m\u001b[0m\u001b[0m\n\u001b[1;32m    101\u001b[0m             \u001b[0mself\u001b[0m\u001b[0;34m.\u001b[0m\u001b[0mdelete\u001b[0m\u001b[0;34m(\u001b[0m\u001b[0;34m)\u001b[0m\u001b[0;34m\u001b[0m\u001b[0m\n",
      "\u001b[0;32m/Library/Frameworks/Python.framework/Versions/2.7/lib/python2.7/site-packages/gmail/gmail.pyc\u001b[0m in \u001b[0;36mcopy\u001b[0;34m(self, uid, to_mailbox, from_mailbox)\u001b[0m\n\u001b[1;32m    139\u001b[0m         \u001b[0;32mif\u001b[0m \u001b[0mfrom_mailbox\u001b[0m\u001b[0;34m:\u001b[0m\u001b[0;34m\u001b[0m\u001b[0m\n\u001b[1;32m    140\u001b[0m             \u001b[0mself\u001b[0m\u001b[0;34m.\u001b[0m\u001b[0muse_mailbox\u001b[0m\u001b[0;34m(\u001b[0m\u001b[0mfrom_mailbox\u001b[0m\u001b[0;34m)\u001b[0m\u001b[0;34m\u001b[0m\u001b[0m\n\u001b[0;32m--> 141\u001b[0;31m         \u001b[0mself\u001b[0m\u001b[0;34m.\u001b[0m\u001b[0mimap\u001b[0m\u001b[0;34m.\u001b[0m\u001b[0muid\u001b[0m\u001b[0;34m(\u001b[0m\u001b[0;34m'COPY'\u001b[0m\u001b[0;34m,\u001b[0m \u001b[0muid\u001b[0m\u001b[0;34m,\u001b[0m \u001b[0mto_mailbox\u001b[0m\u001b[0;34m)\u001b[0m\u001b[0;34m\u001b[0m\u001b[0m\n\u001b[0m\u001b[1;32m    142\u001b[0m \u001b[0;34m\u001b[0m\u001b[0m\n\u001b[1;32m    143\u001b[0m     \u001b[0;32mdef\u001b[0m \u001b[0mfetch_multiple_messages\u001b[0m\u001b[0;34m(\u001b[0m\u001b[0mself\u001b[0m\u001b[0;34m,\u001b[0m \u001b[0mmessages\u001b[0m\u001b[0;34m)\u001b[0m\u001b[0;34m:\u001b[0m\u001b[0;34m\u001b[0m\u001b[0m\n",
      "\u001b[0;32m/Library/Frameworks/Python.framework/Versions/2.7/lib/python2.7/imaplib.pyc\u001b[0m in \u001b[0;36muid\u001b[0;34m(self, command, *args)\u001b[0m\n\u001b[1;32m    771\u001b[0m                               ', '.join(Commands[command])))\n\u001b[1;32m    772\u001b[0m         \u001b[0mname\u001b[0m \u001b[0;34m=\u001b[0m \u001b[0;34m'UID'\u001b[0m\u001b[0;34m\u001b[0m\u001b[0m\n\u001b[0;32m--> 773\u001b[0;31m         \u001b[0mtyp\u001b[0m\u001b[0;34m,\u001b[0m \u001b[0mdat\u001b[0m \u001b[0;34m=\u001b[0m \u001b[0mself\u001b[0m\u001b[0;34m.\u001b[0m\u001b[0m_simple_command\u001b[0m\u001b[0;34m(\u001b[0m\u001b[0mname\u001b[0m\u001b[0;34m,\u001b[0m \u001b[0mcommand\u001b[0m\u001b[0;34m,\u001b[0m \u001b[0;34m*\u001b[0m\u001b[0margs\u001b[0m\u001b[0;34m)\u001b[0m\u001b[0;34m\u001b[0m\u001b[0m\n\u001b[0m\u001b[1;32m    774\u001b[0m         \u001b[0;32mif\u001b[0m \u001b[0mcommand\u001b[0m \u001b[0;32min\u001b[0m \u001b[0;34m(\u001b[0m\u001b[0;34m'SEARCH'\u001b[0m\u001b[0;34m,\u001b[0m \u001b[0;34m'SORT'\u001b[0m\u001b[0;34m,\u001b[0m \u001b[0;34m'THREAD'\u001b[0m\u001b[0;34m)\u001b[0m\u001b[0;34m:\u001b[0m\u001b[0;34m\u001b[0m\u001b[0m\n\u001b[1;32m    775\u001b[0m             \u001b[0mname\u001b[0m \u001b[0;34m=\u001b[0m \u001b[0mcommand\u001b[0m\u001b[0;34m\u001b[0m\u001b[0m\n",
      "\u001b[0;32m/Library/Frameworks/Python.framework/Versions/2.7/lib/python2.7/imaplib.pyc\u001b[0m in \u001b[0;36m_simple_command\u001b[0;34m(self, name, *args)\u001b[0m\n\u001b[1;32m   1086\u001b[0m     \u001b[0;32mdef\u001b[0m \u001b[0m_simple_command\u001b[0m\u001b[0;34m(\u001b[0m\u001b[0mself\u001b[0m\u001b[0;34m,\u001b[0m \u001b[0mname\u001b[0m\u001b[0;34m,\u001b[0m \u001b[0;34m*\u001b[0m\u001b[0margs\u001b[0m\u001b[0;34m)\u001b[0m\u001b[0;34m:\u001b[0m\u001b[0;34m\u001b[0m\u001b[0m\n\u001b[1;32m   1087\u001b[0m \u001b[0;34m\u001b[0m\u001b[0m\n\u001b[0;32m-> 1088\u001b[0;31m         \u001b[0;32mreturn\u001b[0m \u001b[0mself\u001b[0m\u001b[0;34m.\u001b[0m\u001b[0m_command_complete\u001b[0m\u001b[0;34m(\u001b[0m\u001b[0mname\u001b[0m\u001b[0;34m,\u001b[0m \u001b[0mself\u001b[0m\u001b[0;34m.\u001b[0m\u001b[0m_command\u001b[0m\u001b[0;34m(\u001b[0m\u001b[0mname\u001b[0m\u001b[0;34m,\u001b[0m \u001b[0;34m*\u001b[0m\u001b[0margs\u001b[0m\u001b[0;34m)\u001b[0m\u001b[0;34m)\u001b[0m\u001b[0;34m\u001b[0m\u001b[0m\n\u001b[0m\u001b[1;32m   1089\u001b[0m \u001b[0;34m\u001b[0m\u001b[0m\n\u001b[1;32m   1090\u001b[0m \u001b[0;34m\u001b[0m\u001b[0m\n",
      "\u001b[0;32m/Library/Frameworks/Python.framework/Versions/2.7/lib/python2.7/imaplib.pyc\u001b[0m in \u001b[0;36m_command_complete\u001b[0;34m(self, name, tag)\u001b[0m\n\u001b[1;32m    908\u001b[0m             \u001b[0mself\u001b[0m\u001b[0;34m.\u001b[0m\u001b[0m_check_bye\u001b[0m\u001b[0;34m(\u001b[0m\u001b[0;34m)\u001b[0m\u001b[0;34m\u001b[0m\u001b[0m\n\u001b[1;32m    909\u001b[0m         \u001b[0;32mtry\u001b[0m\u001b[0;34m:\u001b[0m\u001b[0;34m\u001b[0m\u001b[0m\n\u001b[0;32m--> 910\u001b[0;31m             \u001b[0mtyp\u001b[0m\u001b[0;34m,\u001b[0m \u001b[0mdata\u001b[0m \u001b[0;34m=\u001b[0m \u001b[0mself\u001b[0m\u001b[0;34m.\u001b[0m\u001b[0m_get_tagged_response\u001b[0m\u001b[0;34m(\u001b[0m\u001b[0mtag\u001b[0m\u001b[0;34m)\u001b[0m\u001b[0;34m\u001b[0m\u001b[0m\n\u001b[0m\u001b[1;32m    911\u001b[0m         \u001b[0;32mexcept\u001b[0m \u001b[0mself\u001b[0m\u001b[0;34m.\u001b[0m\u001b[0mabort\u001b[0m\u001b[0;34m,\u001b[0m \u001b[0mval\u001b[0m\u001b[0;34m:\u001b[0m\u001b[0;34m\u001b[0m\u001b[0m\n\u001b[1;32m    912\u001b[0m             \u001b[0;32mraise\u001b[0m \u001b[0mself\u001b[0m\u001b[0;34m.\u001b[0m\u001b[0mabort\u001b[0m\u001b[0;34m(\u001b[0m\u001b[0;34m'command: %s => %s'\u001b[0m \u001b[0;34m%\u001b[0m \u001b[0;34m(\u001b[0m\u001b[0mname\u001b[0m\u001b[0;34m,\u001b[0m \u001b[0mval\u001b[0m\u001b[0;34m)\u001b[0m\u001b[0;34m)\u001b[0m\u001b[0;34m\u001b[0m\u001b[0m\n",
      "\u001b[0;32m/Library/Frameworks/Python.framework/Versions/2.7/lib/python2.7/imaplib.pyc\u001b[0m in \u001b[0;36m_get_tagged_response\u001b[0;34m(self, tag)\u001b[0m\n\u001b[1;32m   1015\u001b[0m \u001b[0;34m\u001b[0m\u001b[0m\n\u001b[1;32m   1016\u001b[0m             \u001b[0;32mtry\u001b[0m\u001b[0;34m:\u001b[0m\u001b[0;34m\u001b[0m\u001b[0m\n\u001b[0;32m-> 1017\u001b[0;31m                 \u001b[0mself\u001b[0m\u001b[0;34m.\u001b[0m\u001b[0m_get_response\u001b[0m\u001b[0;34m(\u001b[0m\u001b[0;34m)\u001b[0m\u001b[0;34m\u001b[0m\u001b[0m\n\u001b[0m\u001b[1;32m   1018\u001b[0m             \u001b[0;32mexcept\u001b[0m \u001b[0mself\u001b[0m\u001b[0;34m.\u001b[0m\u001b[0mabort\u001b[0m\u001b[0;34m,\u001b[0m \u001b[0mval\u001b[0m\u001b[0;34m:\u001b[0m\u001b[0;34m\u001b[0m\u001b[0m\n\u001b[1;32m   1019\u001b[0m                 \u001b[0;32mif\u001b[0m \u001b[0m__debug__\u001b[0m\u001b[0;34m:\u001b[0m\u001b[0;34m\u001b[0m\u001b[0m\n",
      "\u001b[0;32m/Library/Frameworks/Python.framework/Versions/2.7/lib/python2.7/imaplib.pyc\u001b[0m in \u001b[0;36m_get_response\u001b[0;34m(self)\u001b[0m\n\u001b[1;32m    927\u001b[0m         \u001b[0;31m# otherwise first response line received.\u001b[0m\u001b[0;34m\u001b[0m\u001b[0;34m\u001b[0m\u001b[0m\n\u001b[1;32m    928\u001b[0m \u001b[0;34m\u001b[0m\u001b[0m\n\u001b[0;32m--> 929\u001b[0;31m         \u001b[0mresp\u001b[0m \u001b[0;34m=\u001b[0m \u001b[0mself\u001b[0m\u001b[0;34m.\u001b[0m\u001b[0m_get_line\u001b[0m\u001b[0;34m(\u001b[0m\u001b[0;34m)\u001b[0m\u001b[0;34m\u001b[0m\u001b[0m\n\u001b[0m\u001b[1;32m    930\u001b[0m \u001b[0;34m\u001b[0m\u001b[0m\n\u001b[1;32m    931\u001b[0m         \u001b[0;31m# Command completion response?\u001b[0m\u001b[0;34m\u001b[0m\u001b[0;34m\u001b[0m\u001b[0m\n",
      "\u001b[0;32m/Library/Frameworks/Python.framework/Versions/2.7/lib/python2.7/imaplib.pyc\u001b[0m in \u001b[0;36m_get_line\u001b[0;34m(self)\u001b[0m\n\u001b[1;32m   1025\u001b[0m     \u001b[0;32mdef\u001b[0m \u001b[0m_get_line\u001b[0m\u001b[0;34m(\u001b[0m\u001b[0mself\u001b[0m\u001b[0;34m)\u001b[0m\u001b[0;34m:\u001b[0m\u001b[0;34m\u001b[0m\u001b[0m\n\u001b[1;32m   1026\u001b[0m \u001b[0;34m\u001b[0m\u001b[0m\n\u001b[0;32m-> 1027\u001b[0;31m         \u001b[0mline\u001b[0m \u001b[0;34m=\u001b[0m \u001b[0mself\u001b[0m\u001b[0;34m.\u001b[0m\u001b[0mreadline\u001b[0m\u001b[0;34m(\u001b[0m\u001b[0;34m)\u001b[0m\u001b[0;34m\u001b[0m\u001b[0m\n\u001b[0m\u001b[1;32m   1028\u001b[0m         \u001b[0;32mif\u001b[0m \u001b[0;32mnot\u001b[0m \u001b[0mline\u001b[0m\u001b[0;34m:\u001b[0m\u001b[0;34m\u001b[0m\u001b[0m\n\u001b[1;32m   1029\u001b[0m             \u001b[0;32mraise\u001b[0m \u001b[0mself\u001b[0m\u001b[0;34m.\u001b[0m\u001b[0mabort\u001b[0m\u001b[0;34m(\u001b[0m\u001b[0;34m'socket error: EOF'\u001b[0m\u001b[0;34m)\u001b[0m\u001b[0;34m\u001b[0m\u001b[0m\n",
      "\u001b[0;32m/Library/Frameworks/Python.framework/Versions/2.7/lib/python2.7/imaplib.pyc\u001b[0m in \u001b[0;36mreadline\u001b[0;34m(self)\u001b[0m\n\u001b[1;32m   1187\u001b[0m         \u001b[0;32mdef\u001b[0m \u001b[0mreadline\u001b[0m\u001b[0;34m(\u001b[0m\u001b[0mself\u001b[0m\u001b[0;34m)\u001b[0m\u001b[0;34m:\u001b[0m\u001b[0;34m\u001b[0m\u001b[0m\n\u001b[1;32m   1188\u001b[0m             \u001b[0;34m\"\"\"Read line from remote.\"\"\"\u001b[0m\u001b[0;34m\u001b[0m\u001b[0m\n\u001b[0;32m-> 1189\u001b[0;31m             \u001b[0;32mreturn\u001b[0m \u001b[0mself\u001b[0m\u001b[0;34m.\u001b[0m\u001b[0mfile\u001b[0m\u001b[0;34m.\u001b[0m\u001b[0mreadline\u001b[0m\u001b[0;34m(\u001b[0m\u001b[0;34m)\u001b[0m\u001b[0;34m\u001b[0m\u001b[0m\n\u001b[0m\u001b[1;32m   1190\u001b[0m \u001b[0;34m\u001b[0m\u001b[0m\n\u001b[1;32m   1191\u001b[0m \u001b[0;34m\u001b[0m\u001b[0m\n",
      "\u001b[0;32m/Library/Frameworks/Python.framework/Versions/2.7/lib/python2.7/socket.pyc\u001b[0m in \u001b[0;36mreadline\u001b[0;34m(self, size)\u001b[0m\n\u001b[1;32m    449\u001b[0m             \u001b[0;32mwhile\u001b[0m \u001b[0mTrue\u001b[0m\u001b[0;34m:\u001b[0m\u001b[0;34m\u001b[0m\u001b[0m\n\u001b[1;32m    450\u001b[0m                 \u001b[0;32mtry\u001b[0m\u001b[0;34m:\u001b[0m\u001b[0;34m\u001b[0m\u001b[0m\n\u001b[0;32m--> 451\u001b[0;31m                     \u001b[0mdata\u001b[0m \u001b[0;34m=\u001b[0m \u001b[0mself\u001b[0m\u001b[0;34m.\u001b[0m\u001b[0m_sock\u001b[0m\u001b[0;34m.\u001b[0m\u001b[0mrecv\u001b[0m\u001b[0;34m(\u001b[0m\u001b[0mself\u001b[0m\u001b[0;34m.\u001b[0m\u001b[0m_rbufsize\u001b[0m\u001b[0;34m)\u001b[0m\u001b[0;34m\u001b[0m\u001b[0m\n\u001b[0m\u001b[1;32m    452\u001b[0m                 \u001b[0;32mexcept\u001b[0m \u001b[0merror\u001b[0m\u001b[0;34m,\u001b[0m \u001b[0me\u001b[0m\u001b[0;34m:\u001b[0m\u001b[0;34m\u001b[0m\u001b[0m\n\u001b[1;32m    453\u001b[0m                     \u001b[0;32mif\u001b[0m \u001b[0me\u001b[0m\u001b[0;34m.\u001b[0m\u001b[0margs\u001b[0m\u001b[0;34m[\u001b[0m\u001b[0;36m0\u001b[0m\u001b[0;34m]\u001b[0m \u001b[0;34m==\u001b[0m \u001b[0mEINTR\u001b[0m\u001b[0;34m:\u001b[0m\u001b[0;34m\u001b[0m\u001b[0m\n",
      "\u001b[0;32m/Library/Frameworks/Python.framework/Versions/2.7/lib/python2.7/ssl.pyc\u001b[0m in \u001b[0;36mrecv\u001b[0;34m(self, buflen, flags)\u001b[0m\n\u001b[1;32m    732\u001b[0m                     \u001b[0;34m\"non-zero flags not allowed in calls to recv() on %s\"\u001b[0m \u001b[0;34m%\u001b[0m\u001b[0;34m\u001b[0m\u001b[0m\n\u001b[1;32m    733\u001b[0m                     self.__class__)\n\u001b[0;32m--> 734\u001b[0;31m             \u001b[0;32mreturn\u001b[0m \u001b[0mself\u001b[0m\u001b[0;34m.\u001b[0m\u001b[0mread\u001b[0m\u001b[0;34m(\u001b[0m\u001b[0mbuflen\u001b[0m\u001b[0;34m)\u001b[0m\u001b[0;34m\u001b[0m\u001b[0m\n\u001b[0m\u001b[1;32m    735\u001b[0m         \u001b[0;32melse\u001b[0m\u001b[0;34m:\u001b[0m\u001b[0;34m\u001b[0m\u001b[0m\n\u001b[1;32m    736\u001b[0m             \u001b[0;32mreturn\u001b[0m \u001b[0mself\u001b[0m\u001b[0;34m.\u001b[0m\u001b[0m_sock\u001b[0m\u001b[0;34m.\u001b[0m\u001b[0mrecv\u001b[0m\u001b[0;34m(\u001b[0m\u001b[0mbuflen\u001b[0m\u001b[0;34m,\u001b[0m \u001b[0mflags\u001b[0m\u001b[0;34m)\u001b[0m\u001b[0;34m\u001b[0m\u001b[0m\n",
      "\u001b[0;32m/Library/Frameworks/Python.framework/Versions/2.7/lib/python2.7/ssl.pyc\u001b[0m in \u001b[0;36mread\u001b[0;34m(self, len, buffer)\u001b[0m\n\u001b[1;32m    619\u001b[0m                 \u001b[0mv\u001b[0m \u001b[0;34m=\u001b[0m \u001b[0mself\u001b[0m\u001b[0;34m.\u001b[0m\u001b[0m_sslobj\u001b[0m\u001b[0;34m.\u001b[0m\u001b[0mread\u001b[0m\u001b[0;34m(\u001b[0m\u001b[0mlen\u001b[0m\u001b[0;34m,\u001b[0m \u001b[0mbuffer\u001b[0m\u001b[0;34m)\u001b[0m\u001b[0;34m\u001b[0m\u001b[0m\n\u001b[1;32m    620\u001b[0m             \u001b[0;32melse\u001b[0m\u001b[0;34m:\u001b[0m\u001b[0;34m\u001b[0m\u001b[0m\n\u001b[0;32m--> 621\u001b[0;31m                 \u001b[0mv\u001b[0m \u001b[0;34m=\u001b[0m \u001b[0mself\u001b[0m\u001b[0;34m.\u001b[0m\u001b[0m_sslobj\u001b[0m\u001b[0;34m.\u001b[0m\u001b[0mread\u001b[0m\u001b[0;34m(\u001b[0m\u001b[0mlen\u001b[0m \u001b[0;32mor\u001b[0m \u001b[0;36m1024\u001b[0m\u001b[0;34m)\u001b[0m\u001b[0;34m\u001b[0m\u001b[0m\n\u001b[0m\u001b[1;32m    622\u001b[0m             \u001b[0;32mreturn\u001b[0m \u001b[0mv\u001b[0m\u001b[0;34m\u001b[0m\u001b[0m\n\u001b[1;32m    623\u001b[0m         \u001b[0;32mexcept\u001b[0m \u001b[0mSSLError\u001b[0m \u001b[0;32mas\u001b[0m \u001b[0mx\u001b[0m\u001b[0;34m:\u001b[0m\u001b[0;34m\u001b[0m\u001b[0m\n",
      "\u001b[0;31mKeyboardInterrupt\u001b[0m: "
     ]
    }
   ],
   "source": [
    "def readEmail(emails):\n",
    "    print len(emails)\n",
    "    if len(emails)==0:\n",
    "        print \"No new Emails\"\n",
    "    else:\n",
    "        for email in emails:\n",
    "            print \"\\n\"\n",
    "            email.fetch() # can also unread(), delete(), spam(), or star()\n",
    "            email.archive()\n",
    "            unclean = email.body\n",
    "            soup = BeautifulSoup(unclean)\n",
    "            [s.extract() for s in soup(['style', 'script', '[document]', 'head', 'title'])]\n",
    "            visible_text = re.sub('\\s+', ' ', soup.getText()).replace(u'\\xa0', u' ')\n",
    "            visible_text = re.sub(r'\\w+:\\/{2}[\\d\\w-]+(\\.[\\d\\w-]+)*(?:(?:\\/[^\\s/]*))*', '', visible_text)\n",
    "            print visible_text.encode('ascii', 'ignore') \n",
    "            email.read()\n",
    "            \n",
    "readEmail(g.inbox().mail(unread=True))"
   ]
  },
  {
   "cell_type": "code",
   "execution_count": null,
   "metadata": {
    "collapsed": false
   },
   "outputs": [],
   "source": [
    "def readUnreadEmails(Account):\n",
    "    readEmail(g.inbox().mail(unread=True))"
   ]
  },
  {
   "cell_type": "code",
   "execution_count": 350,
   "metadata": {
    "collapsed": false
   },
   "outputs": [
    {
     "data": {
      "text/plain": [
       "\"Eliminate Operational Inefficiencies and Improve Time-to-Market The AWS Cloud provides companies with the scale and agility they need to meet customer demand. Each organization has its own unique environment, but all are faced with the challenge of decreasing time-to-market to stay competitive. AWS and APN Partners provide tools and expertise to cultivate enterprise-wide adoption of DevOps best practices to automate, secure and monitor your organizations workloads. Learn More  Chef Learn how Chef Automate can help you embrace DevOps and implement a continuous deployment pipeline for your infrastructure and applications, as well as testing for compliance and security. Register for Webinar  Rackspace Register now to learn how Rackspaces experts can help you establish DevOps best practices to deliver applications and services at high velocity. Register for Webinar  VirtusaPolaris Find out how VirtusaPolaris and AWS can help your company cut costs and increase the reliability of your infrastructure. Register for Webinar  Loggly Discover how Logglys logging and monitoring tools provides actionable insight that enables engineers to assess the root cause of problems and increasing application availability. Register for Webinar  AWS on Twitter AWS on Facebook AWS on Google+ AWS on Twitch AWS Blog AWS Podcast We hope you enjoyed this email. If you'd rather not receive future emails from Amazon Web Services, unsubscribe here . Amazon Web Services, Inc. is a subsidiary of Amazon.com, Inc. Amazon.com is a registered trademark of Amazon.com. This message was produced and distributed by Amazon Web Services, Inc., 410 Terry Ave. North, Seattle, WA 98109.  2017, Amazon Web Services, Inc. or its affiliates. All rights reserved. Read our Privacy Policy . -------------------------------------------- \""
      ]
     },
     "execution_count": 350,
     "metadata": {},
     "output_type": "execute_result"
    }
   ],
   "source": [
    "def readEmailNo(Account, EmailNum):\n",
    "    unread = Account.inbox().mail()\n",
    "    unread[EmailNum].fetch()\n",
    "    unclean = unread[EmailNum].body\n",
    "    soup = BeautifulSoup(unclean)\n",
    "    [s.extract() for s in soup(['style', 'script', '[document]', 'head', 'title'])]\n",
    "    visible_text = re.sub('\\s+', ' ', soup.getText()).replace(u'\\xa0', u' ')\n",
    "    visible_text = re.sub(r'\\w+:\\/{2}[\\d\\w-]+(\\.[\\d\\w-]+)*(?:(?:\\/[^\\s/]*))*', '', visible_text)\n",
    "    return visible_text.encode('ascii', 'ignore')"
   ]
  },
  {
   "cell_type": "code",
   "execution_count": null,
   "metadata": {
    "collapsed": false
   },
   "outputs": [],
   "source": []
  },
  {
   "cell_type": "code",
   "execution_count": null,
   "metadata": {
    "collapsed": false
   },
   "outputs": [],
   "source": []
  },
  {
   "cell_type": "code",
   "execution_count": null,
   "metadata": {
    "collapsed": true
   },
   "outputs": [],
   "source": []
  }
 ],
 "metadata": {
  "kernelspec": {
   "display_name": "Python 2",
   "language": "python",
   "name": "python2"
  },
  "language_info": {
   "codemirror_mode": {
    "name": "ipython",
    "version": 2
   },
   "file_extension": ".py",
   "mimetype": "text/x-python",
   "name": "python",
   "nbconvert_exporter": "python",
   "pygments_lexer": "ipython2",
   "version": "2.7.11"
  }
 },
 "nbformat": 4,
 "nbformat_minor": 2
}
