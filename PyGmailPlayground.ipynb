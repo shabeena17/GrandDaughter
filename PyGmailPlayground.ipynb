{
 "cells": [
  {
   "cell_type": "code",
   "execution_count": 29,
   "metadata": {
    "collapsed": true,
    "deletable": true,
    "editable": true
   },
   "outputs": [],
   "source": [
    "import gmail \n",
    "import datetime\n",
    "from bs4 import BeautifulSoup\n",
    "import warnings\n",
    "import re\n",
    "warnings.filterwarnings('ignore')"
   ]
  },
  {
   "cell_type": "code",
   "execution_count": 125,
   "metadata": {
    "collapsed": false
   },
   "outputs": [
    {
     "name": "stdout",
     "output_type": "stream",
     "text": [
      "y\n"
     ]
    }
   ],
   "source": [
    "def f():\n",
    "    return ['x','y']\n",
    "\n",
    "user,passw= f()\n",
    "\n",
    "print passw"
   ]
  },
  {
   "cell_type": "code",
   "execution_count": 114,
   "metadata": {
    "collapsed": false
   },
   "outputs": [
    {
     "data": {
      "text/plain": [
       "61"
      ]
     },
     "execution_count": 114,
     "metadata": {},
     "output_type": "execute_result"
    }
   ],
   "source": [
    "#Get Count of New Unread Emails\n",
    "def newEmailCount(obj):\n",
    "    if len(obj.inbox().mail(unread=True))==0:\n",
    "        return len(obj.inbox().mail(unread=True))\n",
    "    else:\n",
    "        return len(obj.all_mail().mail(unread=True))\n",
    "\n",
    "newEmailCount(g)"
   ]
  },
  {
   "cell_type": "code",
   "execution_count": 128,
   "metadata": {
    "collapsed": false
   },
   "outputs": [
    {
     "data": {
      "text/plain": [
       "'a=1'"
      ]
     },
     "execution_count": 128,
     "metadata": {},
     "output_type": "execute_result"
    }
   ],
   "source": []
  },
  {
   "cell_type": "code",
   "execution_count": 211,
   "metadata": {
    "collapsed": false,
    "deletable": true,
    "editable": true
   },
   "outputs": [
    {
     "name": "stdout",
     "output_type": "stream",
     "text": [
      "Successfully Signed In\n"
     ]
    }
   ],
   "source": [
    "#Get Account Logged In\n",
    "def Account(username,password):\n",
    "    try:\n",
    "        g = gmail.login(username, password)\n",
    "        if g.logged_in:\n",
    "            print \"Successfully Signed In\"\n",
    "            return g\n",
    "        else:\n",
    "            print \"Authentication Failed. Please try again!\"\n",
    "            return g\n",
    "    except Exception as e:\n",
    "        print \"Authentication Failed. Please try again!\"\n",
    "    \n",
    "g = Account('gd4alexa@gmail.com', 'alexa1234')"
   ]
  },
  {
   "cell_type": "code",
   "execution_count": 212,
   "metadata": {
    "collapsed": true
   },
   "outputs": [],
   "source": [
    "## FILTERS\n",
    "# ----------\n",
    "\n",
    "#Read Unread Emails\n",
    "def readUnreadEmails(obj):\n",
    "    return readEmail(obj.all_mail().mail(unread=True))\n",
    "\n",
    "#Read Emails From Email\n",
    "def emailFrom(obj,fromEmail):\n",
    "    return readEmail(obj.all_mail().mail(sender=fromEmail))\n",
    "\n",
    "#Read Emails Sent To\n",
    "def emailTo(obj,toEmail):\n",
    "    return readEmail(obj.all_mail().mail(to=toEmail)) \n",
    "\n",
    "#Read Emails From a Date\n",
    "def emailOn(obj, onDate): #datetime.date(2009, 1, 1)\n",
    "    return readEmail(obj.all_mail().mail(on=onDate))\n",
    "\n",
    "#Read Emails Between Dates\n",
    "def emailBetween(obj, fromDate, tillDate): #datetime.date(2013, 6, 18)\n",
    "    return readEmail(obj.all_mail().mail(after=fromDate, before=tillDate))"
   ]
  },
  {
   "cell_type": "code",
   "execution_count": 216,
   "metadata": {
    "collapsed": false
   },
   "outputs": [
    {
     "name": "stdout",
     "output_type": "stream",
     "text": [
      "[<gmail.message.Message instance at 0x108fd05a8>]\n",
      "I love you Alexa - you are so helpful\n"
     ]
    }
   ],
   "source": [
    "from ast import literal_eval\n",
    "\n",
    "f = \"unread='True', sender='mrnaik@scu.edu'\"\n",
    "s = eval('g.inbox().mail('+f+')')\n",
    "print s\n",
    "s[0].fetch()\n",
    "print s[0].subject"
   ]
  },
  {
   "cell_type": "code",
   "execution_count": 208,
   "metadata": {
    "collapsed": false
   },
   "outputs": [
    {
     "name": "stdout",
     "output_type": "stream",
     "text": [
      "{'unread': True, 'sender': 'mrnaik@scu.com'}\n",
      "0\n"
     ]
    },
    {
     "ename": "IndexError",
     "evalue": "list index out of range",
     "output_type": "error",
     "traceback": [
      "\u001b[0;31m---------------------------------------------------------------------------\u001b[0m",
      "\u001b[0;31mIndexError\u001b[0m                                Traceback (most recent call last)",
      "\u001b[0;32m<ipython-input-208-4c19637eb43d>\u001b[0m in \u001b[0;36m<module>\u001b[0;34m()\u001b[0m\n\u001b[1;32m      8\u001b[0m \u001b[0ms\u001b[0m \u001b[0;34m=\u001b[0m \u001b[0mg\u001b[0m\u001b[0;34m.\u001b[0m\u001b[0minbox\u001b[0m\u001b[0;34m(\u001b[0m\u001b[0;34m)\u001b[0m\u001b[0;34m.\u001b[0m\u001b[0mmail\u001b[0m\u001b[0;34m(\u001b[0m\u001b[0;34m**\u001b[0m\u001b[0mkeywords\u001b[0m\u001b[0;34m)\u001b[0m\u001b[0;34m\u001b[0m\u001b[0m\n\u001b[1;32m      9\u001b[0m \u001b[0;32mprint\u001b[0m \u001b[0mlen\u001b[0m\u001b[0;34m(\u001b[0m\u001b[0ms\u001b[0m\u001b[0;34m)\u001b[0m\u001b[0;34m\u001b[0m\u001b[0m\n\u001b[0;32m---> 10\u001b[0;31m \u001b[0ms\u001b[0m\u001b[0;34m[\u001b[0m\u001b[0;36m0\u001b[0m\u001b[0;34m]\u001b[0m\u001b[0;34m.\u001b[0m\u001b[0mfetch\u001b[0m\u001b[0;34m(\u001b[0m\u001b[0;34m)\u001b[0m\u001b[0;34m\u001b[0m\u001b[0m\n\u001b[0m\u001b[1;32m     11\u001b[0m \u001b[0;32mprint\u001b[0m \u001b[0ms\u001b[0m\u001b[0;34m[\u001b[0m\u001b[0;36m0\u001b[0m\u001b[0;34m]\u001b[0m\u001b[0;34m.\u001b[0m\u001b[0msubject\u001b[0m\u001b[0;34m\u001b[0m\u001b[0m\n",
      "\u001b[0;31mIndexError\u001b[0m: list index out of range"
     ]
    }
   ],
   "source": [
    "keywords = {}\n",
    "if True:\n",
    "    keywords['unread'] = True\n",
    "if True:\n",
    "    keywords['sender'] = 'mrnaik@scu.com'\n",
    "print keywords\n",
    "\n",
    "s = g.inbox().mail(**keywords)\n",
    "print len(s)\n",
    "s[0].fetch()\n",
    "print s[0].subject"
   ]
  },
  {
   "cell_type": "code",
   "execution_count": 200,
   "metadata": {
    "collapsed": false
   },
   "outputs": [
    {
     "name": "stdout",
     "output_type": "stream",
     "text": [
      "0 mrnaik@scu.com\n"
     ]
    }
   ],
   "source": [
    "def f(unread=0,sender=0, to=\"\"):\n",
    "    print unread, sender\n",
    "\n",
    "f(**keywords)"
   ]
  },
  {
   "cell_type": "code",
   "execution_count": 122,
   "metadata": {
    "collapsed": false,
    "deletable": true,
    "editable": true
   },
   "outputs": [],
   "source": [
    "## READ FUNCTIONS\n",
    "# ----------------\n",
    "\n",
    "#Read Email Body\n",
    "def readEmail(emailsObj):\n",
    "    if numEmails(emailsObj)==0:\n",
    "        print \"No new Emails\"\n",
    "    else:\n",
    "        for email in emailsObj:\n",
    "            print \"\\n\"\n",
    "            email.fetch() # can also unread(), delete(), spam(), or star()\n",
    "            unclean = email.body\n",
    "            soup = BeautifulSoup(unclean)\n",
    "            [s.extract() for s in soup(['style', 'script', '[document]', 'head', 'title'])]\n",
    "            visible_text = re.sub('\\s+', ' ', soup.getText()).replace(u'\\xa0', u' ')\n",
    "            visible_text = re.sub(r'\\w+:\\/{2}[\\d\\w-]+(\\.[\\d\\w-]+)*(?:(?:\\/[^\\s/]*))*', '', visible_text)\n",
    "            print visible_text.encode('ascii', 'ignore') \n",
    "            email.read()\n",
    "\n",
    "#Read Email Subjects\n",
    "def readNewSubjects(emailsObj):\n",
    "    #print len(emailsObj)\n",
    "    if len(emailsObj)==0:\n",
    "        print \"No new Emails\"\n",
    "    else:\n",
    "        for email in emailsObj:\n",
    "            print \"\\n\"\n",
    "            email.fetch()\n",
    "            print email.subject "
   ]
  }
 ],
 "metadata": {
  "kernelspec": {
   "display_name": "Python 2",
   "language": "python",
   "name": "python2"
  },
  "language_info": {
   "codemirror_mode": {
    "name": "ipython",
    "version": 2
   },
   "file_extension": ".py",
   "mimetype": "text/x-python",
   "name": "python",
   "nbconvert_exporter": "python",
   "pygments_lexer": "ipython2",
   "version": "2.7.11"
  }
 },
 "nbformat": 4,
 "nbformat_minor": 2
}
